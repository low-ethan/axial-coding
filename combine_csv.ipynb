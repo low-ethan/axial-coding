{
 "cells": [
  {
   "metadata": {
    "ExecuteTime": {
     "end_time": "2024-08-09T20:34:34.974350Z",
     "start_time": "2024-08-09T20:34:34.967359Z"
    }
   },
   "cell_type": "code",
   "source": [
    "import os\n",
    "\n",
    "# Specify the directory containing the CSV files\n",
    "folder_path = 'ts_dfs'\n",
    "\n",
    "# Create a map for renaming\n",
    "rename_map = {\n",
    "    f'transcript{i}.csv': f'ts{i}.csv' for i in range(1, 13)\n",
    "}\n",
    "\n",
    "# Rename files based on the map\n",
    "for old_name, new_name in rename_map.items():\n",
    "    old_file_path = os.path.join(folder_path, old_name)\n",
    "    new_file_path = os.path.join(folder_path, new_name)\n",
    "    \n",
    "    if os.path.exists(old_file_path):\n",
    "        os.rename(old_file_path, new_file_path)\n",
    "    else:\n",
    "        print(f\"File {old_name} does not exist.\")"
   ],
   "id": "7553aa1202f8c8ba",
   "outputs": [],
   "execution_count": 6
  },
  {
   "cell_type": "code",
   "id": "initial_id",
   "metadata": {
    "collapsed": true,
    "ExecuteTime": {
     "end_time": "2024-08-09T20:36:27.613836Z",
     "start_time": "2024-08-09T20:36:27.588491Z"
    }
   },
   "source": [
    "import os\n",
    "import pandas as pd\n",
    "\n",
    "# Specify the directory containing the CSV files\n",
    "folder_path = 'ts_dfs'\n",
    "\n",
    "# List to hold DataFrames\n",
    "df_list = []\n",
    "\n",
    "# Loop through all files in the folder\n",
    "for file_name in os.listdir(folder_path):\n",
    "    if file_name.endswith('.csv'):  # Ensure file is a CSV\n",
    "        fn = file_name.split('.')[0]\n",
    "        file_path = os.path.join(folder_path, file_name)\n",
    "        df = pd.read_csv(file_path)\n",
    "        df_list.append((df, fn))"
   ],
   "outputs": [],
   "execution_count": 13
  },
  {
   "metadata": {
    "ExecuteTime": {
     "end_time": "2024-08-09T20:36:28.976250Z",
     "start_time": "2024-08-09T20:36:28.964703Z"
    }
   },
   "cell_type": "code",
   "source": [
    "# Loop through each DataFrame in df_list\n",
    "for (df, fn) in df_list:\n",
    "    if 'Unnamed: 0' in df.columns:  # Check if 'Unnamed: 0' column exists\n",
    "        df.rename(columns={'Unnamed: 0': 'id'}, inplace=True)  # Rename column to 'id'\n",
    "        df['id'] = fn + '_' + df['id'].astype(str)   # Append 'ts' to each value in 'id' column\n"
   ],
   "id": "bcecc92e7f5b9cec",
   "outputs": [],
   "execution_count": 14
  },
  {
   "metadata": {
    "ExecuteTime": {
     "end_time": "2024-08-09T20:37:22.644783Z",
     "start_time": "2024-08-09T20:37:22.641477Z"
    }
   },
   "cell_type": "code",
   "source": "df_list2 = [df for df,fn in df_list]",
   "id": "56fe7b7a9248934d",
   "outputs": [],
   "execution_count": 18
  },
  {
   "metadata": {
    "ExecuteTime": {
     "end_time": "2024-08-09T20:37:51.028155Z",
     "start_time": "2024-08-09T20:37:51.023661Z"
    }
   },
   "cell_type": "code",
   "source": "fin_df = pd.concat(df_list2, ignore_index=True)",
   "id": "1f6b6d6153dc2571",
   "outputs": [],
   "execution_count": 20
  },
  {
   "metadata": {
    "ExecuteTime": {
     "end_time": "2024-08-09T20:38:07.165214Z",
     "start_time": "2024-08-09T20:38:07.152615Z"
    }
   },
   "cell_type": "code",
   "source": "fin_df.to_csv('ts_df_combined.csv', index=False)",
   "id": "385cc459514a03ce",
   "outputs": [],
   "execution_count": 21
  }
 ],
 "metadata": {
  "kernelspec": {
   "display_name": "Python 3",
   "language": "python",
   "name": "python3"
  },
  "language_info": {
   "codemirror_mode": {
    "name": "ipython",
    "version": 2
   },
   "file_extension": ".py",
   "mimetype": "text/x-python",
   "name": "python",
   "nbconvert_exporter": "python",
   "pygments_lexer": "ipython2",
   "version": "2.7.6"
  }
 },
 "nbformat": 4,
 "nbformat_minor": 5
}
