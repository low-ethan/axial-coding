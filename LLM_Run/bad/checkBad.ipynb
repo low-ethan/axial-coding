{
 "cells": [
  {
   "metadata": {
    "ExecuteTime": {
     "end_time": "2025-03-26T21:27:28.839094Z",
     "start_time": "2025-03-26T21:27:28.834130Z"
    }
   },
   "cell_type": "code",
   "source": [
    "import pandas as pd\n",
    "import re\n",
    "import json\n",
    "def parse_result(result):\n",
    "    # match = re.search(r'\\{[\\s\\S]*\\}', result)\n",
    "    # if match:\n",
    "    #     json_str = match.group(0)\n",
    "    #     try:\n",
    "    #         return json.loads(json_str)\n",
    "    #     except json.JSONDecodeError:\n",
    "    #         return None\n",
    "    # return None\n",
    "    #try:\n",
    "    #    # Attempt to parse the text as JSON\n",
    "    #    json_data = json.loads(result)\n",
    "    #    return json_data\n",
    "    #except json.JSONDecodeError as e:\n",
    "    #    # Handle JSON decoding errors\n",
    "    #    print(f\"JSON decoding error: {e}\")\n",
    "    #    return None\n",
    "    #except Exception as e:\n",
    "    #    # Handle any other exceptions\n",
    "    #    print(f\"An unexpected error occurred: {e}\")\n",
    "    #      return None\n",
    "    list_pattern = r'\\[\\s*{.*?\\}\\s*]'\n",
    "    json_list_match = re.search(list_pattern, result, re.DOTALL)\n",
    "\n",
    "    if json_list_match:\n",
    "        json_list_text = json_list_match.group()\n",
    "        json_list_text = re.sub('\"', '\\'', json_list_text)\n",
    "        obj = re.sub(r'\\{\\'', '{\"', json_list_text)\n",
    "        obj = re.sub(r'\\'}', '\"}', obj)\n",
    "        obj = re.sub(r'\\':', '\":', obj)\n",
    "        obj = re.sub(r':\\s*\\'', ': \"', obj)\n",
    "        obj = re.sub(r'\\',\\s*\\'', '\", \"', obj)\n",
    "        obj = re.sub(r'\\[\\'', '[\"', obj)\n",
    "        obj = re.sub(r'\\'\\]', '\"]', obj)\n",
    "        try:\n",
    "            json_data = json.loads(obj)\n",
    "            return json_data\n",
    "        except json.JSONDecodeError as e:\n",
    "            print(f\"JSON decoding error: {e}\")\n",
    "            return None\n",
    "        except Exception as e:\n",
    "            print(f\"Unexpected error: {e}\")\n",
    "            return None\n",
    "    return None"
   ],
   "id": "dc45532d7103603c",
   "outputs": [],
   "execution_count": 8
  },
  {
   "metadata": {
    "ExecuteTime": {
     "end_time": "2025-03-26T21:27:19.214707Z",
     "start_time": "2025-03-26T21:27:19.208397Z"
    }
   },
   "cell_type": "code",
   "source": [
    "df = pd.read_csv('Bad_gemma3_27b.csv')\n",
    "df.head()"
   ],
   "id": "8e2eded53967c0fa",
   "outputs": [
    {
     "data": {
      "text/plain": [
       "             id             prompt  \\\n",
       "0  57_LEH_F_Q10  Q10_Health Impact   \n",
       "1  57_LEH_F_Q12   Q12_Risk Factors   \n",
       "\n",
       "                                              answer  \\\n",
       "0  I have seen people feeling depressed. It seems...   \n",
       "1  One of the main risk factors causing depressio...   \n",
       "\n",
       "                                              result  \n",
       "0  [{\"Original_Text\": \"I have seen people feeling...  \n",
       "1  [{\"Original_Text\": \"One of the main risk facto...  "
      ],
      "text/html": [
       "<div>\n",
       "<style scoped>\n",
       "    .dataframe tbody tr th:only-of-type {\n",
       "        vertical-align: middle;\n",
       "    }\n",
       "\n",
       "    .dataframe tbody tr th {\n",
       "        vertical-align: top;\n",
       "    }\n",
       "\n",
       "    .dataframe thead th {\n",
       "        text-align: right;\n",
       "    }\n",
       "</style>\n",
       "<table border=\"1\" class=\"dataframe\">\n",
       "  <thead>\n",
       "    <tr style=\"text-align: right;\">\n",
       "      <th></th>\n",
       "      <th>id</th>\n",
       "      <th>prompt</th>\n",
       "      <th>answer</th>\n",
       "      <th>result</th>\n",
       "    </tr>\n",
       "  </thead>\n",
       "  <tbody>\n",
       "    <tr>\n",
       "      <th>0</th>\n",
       "      <td>57_LEH_F_Q10</td>\n",
       "      <td>Q10_Health Impact</td>\n",
       "      <td>I have seen people feeling depressed. It seems...</td>\n",
       "      <td>[{\"Original_Text\": \"I have seen people feeling...</td>\n",
       "    </tr>\n",
       "    <tr>\n",
       "      <th>1</th>\n",
       "      <td>57_LEH_F_Q12</td>\n",
       "      <td>Q12_Risk Factors</td>\n",
       "      <td>One of the main risk factors causing depressio...</td>\n",
       "      <td>[{\"Original_Text\": \"One of the main risk facto...</td>\n",
       "    </tr>\n",
       "  </tbody>\n",
       "</table>\n",
       "</div>"
      ]
     },
     "execution_count": 6,
     "metadata": {},
     "output_type": "execute_result"
    }
   ],
   "execution_count": 6
  },
  {
   "metadata": {
    "ExecuteTime": {
     "end_time": "2025-03-26T21:27:31.359981Z",
     "start_time": "2025-03-26T21:27:31.357188Z"
    }
   },
   "cell_type": "code",
   "source": "df['result2'] = df['result'].apply(parse_result)",
   "id": "a87c4b11ddfa13",
   "outputs": [],
   "execution_count": 9
  },
  {
   "metadata": {
    "ExecuteTime": {
     "end_time": "2025-03-26T21:27:50.325038Z",
     "start_time": "2025-03-26T21:27:50.320839Z"
    }
   },
   "cell_type": "code",
   "source": [
    "# df.to_csv('good/Qwen32b.csv', index=False)\n",
    "df.to_csv('good/gemma3_27b.csv', mode='a', header=False, index=False)"
   ],
   "id": "708e06d414f31637",
   "outputs": [],
   "execution_count": 10
  },
  {
   "metadata": {
    "ExecuteTime": {
     "end_time": "2025-03-26T21:27:52.935333Z",
     "start_time": "2025-03-26T21:27:52.928331Z"
    }
   },
   "cell_type": "code",
   "source": "df\n",
   "id": "6da4e5cdb79a9149",
   "outputs": [
    {
     "data": {
      "text/plain": [
       "             id             prompt  \\\n",
       "0  57_LEH_F_Q10  Q10_Health Impact   \n",
       "1  57_LEH_F_Q12   Q12_Risk Factors   \n",
       "\n",
       "                                              answer  \\\n",
       "0  I have seen people feeling depressed. It seems...   \n",
       "1  One of the main risk factors causing depressio...   \n",
       "\n",
       "                                              result  \\\n",
       "0  [{\"Original_Text\": \"I have seen people feeling...   \n",
       "1  [{\"Original_Text\": \"One of the main risk facto...   \n",
       "\n",
       "                                             result2  \n",
       "0  [{'Original_Text': 'I have seen people feeling...  \n",
       "1  [{'Original_Text': 'One of the main risk facto...  "
      ],
      "text/html": [
       "<div>\n",
       "<style scoped>\n",
       "    .dataframe tbody tr th:only-of-type {\n",
       "        vertical-align: middle;\n",
       "    }\n",
       "\n",
       "    .dataframe tbody tr th {\n",
       "        vertical-align: top;\n",
       "    }\n",
       "\n",
       "    .dataframe thead th {\n",
       "        text-align: right;\n",
       "    }\n",
       "</style>\n",
       "<table border=\"1\" class=\"dataframe\">\n",
       "  <thead>\n",
       "    <tr style=\"text-align: right;\">\n",
       "      <th></th>\n",
       "      <th>id</th>\n",
       "      <th>prompt</th>\n",
       "      <th>answer</th>\n",
       "      <th>result</th>\n",
       "      <th>result2</th>\n",
       "    </tr>\n",
       "  </thead>\n",
       "  <tbody>\n",
       "    <tr>\n",
       "      <th>0</th>\n",
       "      <td>57_LEH_F_Q10</td>\n",
       "      <td>Q10_Health Impact</td>\n",
       "      <td>I have seen people feeling depressed. It seems...</td>\n",
       "      <td>[{\"Original_Text\": \"I have seen people feeling...</td>\n",
       "      <td>[{'Original_Text': 'I have seen people feeling...</td>\n",
       "    </tr>\n",
       "    <tr>\n",
       "      <th>1</th>\n",
       "      <td>57_LEH_F_Q12</td>\n",
       "      <td>Q12_Risk Factors</td>\n",
       "      <td>One of the main risk factors causing depressio...</td>\n",
       "      <td>[{\"Original_Text\": \"One of the main risk facto...</td>\n",
       "      <td>[{'Original_Text': 'One of the main risk facto...</td>\n",
       "    </tr>\n",
       "  </tbody>\n",
       "</table>\n",
       "</div>"
      ]
     },
     "execution_count": 11,
     "metadata": {},
     "output_type": "execute_result"
    }
   ],
   "execution_count": 11
  }
 ],
 "metadata": {
  "kernelspec": {
   "display_name": "Python 3",
   "language": "python",
   "name": "python3"
  },
  "language_info": {
   "codemirror_mode": {
    "name": "ipython",
    "version": 2
   },
   "file_extension": ".py",
   "mimetype": "text/x-python",
   "name": "python",
   "nbconvert_exporter": "python",
   "pygments_lexer": "ipython2",
   "version": "2.7.6"
  }
 },
 "nbformat": 4,
 "nbformat_minor": 5
}
